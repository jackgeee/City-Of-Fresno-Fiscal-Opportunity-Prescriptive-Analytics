{
 "cells": [
  {
   "cell_type": "code",
   "execution_count": 34,
   "metadata": {},
   "outputs": [],
   "source": [
    "# Cell 1\n",
    "# Load dependencies\n",
    "import numpy as np\n",
    "import pandas as pd\n",
    "import seaborn as sns\n",
    "import matplotlib.pyplot as plt"
   ]
  },
  {
   "cell_type": "code",
   "execution_count": 35,
   "metadata": {},
   "outputs": [
    {
     "name": "stderr",
     "output_type": "stream",
     "text": [
      "C:\\ProgramData\\Anaconda3\\lib\\site-packages\\IPython\\core\\interactiveshell.py:3058: DtypeWarning: Columns (19,55) have mixed types.Specify dtype option on import or set low_memory=False.\n",
      "  interactivity=interactivity, compiler=compiler, result=result)\n",
      "C:\\ProgramData\\Anaconda3\\lib\\site-packages\\IPython\\core\\interactiveshell.py:3058: DtypeWarning: Columns (19,47,55,112,123,124,125,128,129,130,133,139,140,141) have mixed types.Specify dtype option on import or set low_memory=False.\n",
      "  interactivity=interactivity, compiler=compiler, result=result)\n"
     ]
    }
   ],
   "source": [
    "# Cell 2\n",
    "# Load Dataframes\n",
    "# City of Fresno employee payroll:\n",
    "CoF = pd.read_csv('tabula-18-Fsalary.csv',dtype={'Job_title':str,'annual_inc':'int64'})\n",
    "loans = pd.read_csv('loan.csv') #Ben's Data set\n",
    "data4 = pd.read_csv('loanD.csv') # Dingcheng data set\n",
    "#Sheets formatted already\n",
    "CoF16 = pd.read_csv('Employee-Gross-Wages2016.csv')\n",
    "CoF17 = pd.read_csv('Employee-Gross-Wages2017.csv')\n"
   ]
  },
  {
   "cell_type": "code",
   "execution_count": 36,
   "metadata": {},
   "outputs": [],
   "source": [
    "# Cell 3\n",
    "# Both loan datasets must used to form one larger dataset \n",
    "# All columns must match names to correctly train model\n",
    "# No remaining NaNs after cleaning/altering\n",
    "# Notes:\n",
    "# CoF data will be added as columns: 'funded_amnt','installment','int_rate','dti','delinq_2yrs','loan_status'\n",
    "# funded_amnt will be done in predefined as loan max \n",
    "data1 = data4[['annual_inc','funded_amnt','installment','int_rate','dti','delinq_2yrs','loan_status']]\n",
    "data = loans[['annual_inc','funded_amnt','installment','int_rate','dti','delinq_2yrs','loan_status']]\n",
    "\n",
    "# The MAIN dataframe for training:\n",
    "double = pd.merge(data1,data,how='outer')"
   ]
  },
  {
   "cell_type": "code",
   "execution_count": 37,
   "metadata": {},
   "outputs": [],
   "source": [
    "# Cell 4\n",
    "# Change loanstatus values to number\n",
    "#   0 charged off\n",
    "#   1 Fully Paid\n",
    "def statclean(x):\n",
    "    if (x == 'Charged Off'): return 0\n",
    "    elif (x == 'Fully Paid'):return 1\n",
    "    elif (x.startswith('Fully', 40)): return 1 #some instances were long strings\n",
    "    elif (x.startswith('Charged', 40)): return 0\n",
    "# drops NaNs from df\n",
    "# Because statclean() can not be executed over NaNs\n",
    "double = double.dropna() \n"
   ]
  },
  {
   "cell_type": "code",
   "execution_count": 38,
   "metadata": {},
   "outputs": [],
   "source": [
    "# Cell 5\n",
    "# Change string values to integer values (listed in statClean())\n",
    "double.loan_status = double.loan_status.apply(statclean)\n",
    "# Because statclean() leaves NaNs for some irrelevant info\n",
    "double = double.dropna()"
   ]
  },
  {
   "cell_type": "code",
   "execution_count": 39,
   "metadata": {},
   "outputs": [],
   "source": [
    "# Cell 6\n",
    "# Adding missing columns to CoF:\n",
    "# Initialized to Null values.\n",
    "# Funded loan amount will be set to the max offered by LendingClub \"40,000\"\n",
    "\n",
    "CoF['funded_amnt'] = 40000\n",
    "CoF['installment'] = np.nan\n",
    "CoF['int_rate'] = np.nan\n",
    "CoF['dti'] = np.nan\n",
    "CoF['delinq_2yrs'] = np.nan\n",
    "CoF['loan_status'] = np.nan\n"
   ]
  },
  {
   "cell_type": "code",
   "execution_count": 40,
   "metadata": {},
   "outputs": [],
   "source": [
    "# Cell 7\n",
    "# What we will use to create predicted linear values\n",
    "CoFX = CoF[['annual_inc','funded_amnt']]\n"
   ]
  },
  {
   "cell_type": "code",
   "execution_count": 41,
   "metadata": {},
   "outputs": [
    {
     "name": "stderr",
     "output_type": "stream",
     "text": [
      "C:\\ProgramData\\Anaconda3\\lib\\site-packages\\sklearn\\linear_model\\logistic.py:432: FutureWarning: Default solver will be changed to 'lbfgs' in 0.22. Specify a solver to silence this warning.\n",
      "  FutureWarning)\n"
     ]
    },
    {
     "name": "stdout",
     "output_type": "stream",
     "text": [
      "accuracy:  79.99234376495359\n"
     ]
    }
   ],
   "source": [
    "# Cell 8\n",
    "# Begin Logistic Regression:\n",
    "# Split the data \n",
    "from sklearn.model_selection import train_test_split\n",
    "X = double[['annual_inc','funded_amnt','installment','int_rate','dti','delinq_2yrs']]\n",
    "y = double['loan_status']\n",
    "x_trn, x_tst, y_trn, y_tst = train_test_split(X,y,test_size=.2)\n",
    "\n",
    "# make model  \n",
    "from sklearn.linear_model import LogisticRegression\n",
    "logReg = LogisticRegression(max_iter=200)\n",
    "logReg.fit(x_trn,y_trn)\n",
    "\n",
    "# Stats on predictor model:   \n",
    "predict = logReg.predict(x_tst)\n",
    "score = logReg.score(x_tst,y_tst)\n",
    "print(\"accuracy: \",100*score)"
   ]
  },
  {
   "cell_type": "code",
   "execution_count": 42,
   "metadata": {},
   "outputs": [
    {
     "name": "stdout",
     "output_type": "stream",
     "text": [
      "accuracy:  90.91469507483097\n"
     ]
    },
    {
     "name": "stderr",
     "output_type": "stream",
     "text": [
      "C:\\ProgramData\\Anaconda3\\lib\\site-packages\\sklearn\\base.py:420: FutureWarning: The default value of multioutput (not exposed in score method) will change from 'variance_weighted' to 'uniform_average' in 0.23 to keep consistent with 'metrics.r2_score'. To specify the default value manually and avoid the warning, please either call 'metrics.r2_score' directly or make a custom scorer with 'metrics.make_scorer' (the built-in scorer 'r2' uses multioutput='uniform_average').\n",
      "  \"multioutput='uniform_average').\", FutureWarning)\n"
     ]
    }
   ],
   "source": [
    "# Cell 9\n",
    "#Create Linear regression model,\n",
    "# we train this model in order to populate the missing \n",
    "# variables needed in the employee payroll data set\n",
    "# uses annual income and funded_amnt to try and predict: installment, int_rate, dti, delinq_2yrs\n",
    "from sklearn.linear_model import LinearRegression\n",
    "LinR= LinearRegression(fit_intercept=True,normalize=True)\n",
    "X = double[['annual_inc','funded_amnt']]#['annual_inc'].values.reshape(-1,1)\n",
    "y = double[['installment','int_rate','dti','delinq_2yrs']]\n",
    "x_trn, x_tst,y_trn,y_tst = train_test_split(X,y,test_size=.1) \n",
    "LinR.fit(x_trn,y_trn)\n",
    "\n",
    "# linear regressor stats\n",
    "predict1= LinR.predict(x_tst)\n",
    "score = LinR.score(x_tst,y_tst)\n",
    "print(\"accuracy: \",100*score) "
   ]
  },
  {
   "cell_type": "code",
   "execution_count": 43,
   "metadata": {},
   "outputs": [],
   "source": [
    "# Cell 10\n",
    "# Run Linear regressor\n",
    "# Creating values for missing CoF variables:\n",
    "X1Val = LinR.predict(CoFX[['annual_inc','funded_amnt']])\n",
    "\n",
    "#Load missing dataframe values into CoF\n",
    "col_names = ['installment','int_rate','dti','delinq_2yrs']\n",
    "for i in range(len(X1Val)):\n",
    "  for j in range(0,4):\n",
    "    CoF.at[i,col_names[j]]=X1Val[i][j]"
   ]
  },
  {
   "cell_type": "code",
   "execution_count": 44,
   "metadata": {},
   "outputs": [],
   "source": [
    "# Cell 11\n",
    "#Run Logistic prediction model on newly filled CoF dataframe\n",
    "# Log(CoF):\n",
    "X1loanX = CoF[['annual_inc','funded_amnt','installment','int_rate','dti','delinq_2yrs']]\n",
    "X1LoanY = logReg.predict(X1loanX)\n",
    "\n",
    "# Write predictions into CoF\n",
    "for i in range(len(X1LoanY)):\n",
    "  CoF.at[i,'loan_status'] = X1LoanY[i]"
   ]
  },
  {
   "cell_type": "code",
   "execution_count": 45,
   "metadata": {},
   "outputs": [
    {
     "data": {
      "text/plain": [
       "Text(0.5, 0, 'Loan repayment')"
      ]
     },
     "execution_count": 45,
     "metadata": {},
     "output_type": "execute_result"
    },
    {
     "data": {
      "image/png": "[encoded data removed]",
      "text/plain": [
       "<Figure size 432x288 with 1 Axes>"
      ]
     },
     "metadata": {
      "needs_background": "light"
     },
     "output_type": "display_data"
    }
   ],
   "source": [
    "# Most employees able to pay loan are making over 50k a year\n",
    "plt.title(\"Loan repayment based on loan amount 40k\")\n",
    "sns.boxplot(y= 'annual_inc',x='loan_status',data = CoF,hue='loan_status')\n",
    "plt.ylabel(\"Annual income\")\n",
    "plt.xlabel(\"Loan repayment\")"
   ]
  },
  {
   "cell_type": "code",
   "execution_count": 30,
   "metadata": {},
   "outputs": [
    {
     "data": {
      "text/plain": [
       "loan_status\n",
       "0.0     956\n",
       "1.0    3324\n",
       "dtype: int64"
      ]
     },
     "execution_count": 30,
     "metadata": {},
     "output_type": "execute_result"
    }
   ],
   "source": [
    "# See the numbers of defaulters vs successful repayment\n",
    "CoFG = CoF.groupby('loan_status').size()\n",
    "CoFG"
   ]
  },
  {
   "cell_type": "code",
   "execution_count": 29,
   "metadata": {},
   "outputs": [
    {
     "data": {
      "text/plain": [
       "<matplotlib.axes._subplots.AxesSubplot at 0x1eaad1cf908>"
      ]
     },
     "execution_count": 29,
     "metadata": {},
     "output_type": "execute_result"
    },
    {
     "data": {
      "image/png": "[encoded data removed]",
      "text/plain": [
       "<Figure size 432x288 with 1 Axes>"
      ]
     },
     "metadata": {
      "needs_background": "light"
     },
     "output_type": "display_data"
    }
   ],
   "source": [
    "# The majority of employees are able to repay their loan\n",
    "sns.distplot(CoF.loan_status)"
   ]
  },
  {
   "cell_type": "code",
   "execution_count": 31,
   "metadata": {},
   "outputs": [
    {
     "data": {
      "text/plain": [
       "<matplotlib.axes._subplots.AxesSubplot at 0x1eafdd96688>"
      ]
     },
     "execution_count": 31,
     "metadata": {},
     "output_type": "execute_result"
    },
    {
     "data": {
      "image/png": "[encoded data removed]",
      "text/plain": [
       "<Figure size 432x288 with 1 Axes>"
      ]
     },
     "metadata": {
      "needs_background": "light"
     },
     "output_type": "display_data"
    }
   ],
   "source": [
    "# The main employees not being able to repay a loan\n",
    "a =CoF[CoF.loan_status == 0]\n",
    "a.annual_inc.describe()\n",
    "x= a.job_title.value_counts().keys()[:5]\n",
    "y=a.job_title.value_counts().values[:5]\n",
    "sns.barplot(x= a.job_title.value_counts().keys()[:7],y=a.job_title.value_counts().values[:7],data=a)"
   ]
  },
  {
   "cell_type": "code",
   "execution_count": 33,
   "metadata": {},
   "outputs": [
    {
     "data": {
      "text/plain": [
       "[<matplotlib.lines.Line2D at 0x1eb6ef8dfc8>]"
      ]
     },
     "execution_count": 33,
     "metadata": {},
     "output_type": "execute_result"
    },
    {
     "data": {
      "image/png": "[encoded data removed]",
      "text/plain": [
       "<Figure size 432x288 with 1 Axes>"
      ]
     },
     "metadata": {
      "needs_background": "light"
     },
     "output_type": "display_data"
    }
   ],
   "source": [
    "#Mean Income is increasing for employees\n",
    "a = CoF16.annual_inc.mean()\n",
    "b = CoF17.annual_inc.mean()\n",
    "c = CoF.annual_inc.mean()\n",
    "plt.title(\"Mean income over 3 years\")\n",
    "plt.ylabel(\"Annual Income\")\n",
    "plt.xlabel(\"Payroll Years\")\n",
    "plt.plot(['2016','2017','2018'],[a,b,c])"
   ]
  },
  {
   "cell_type": "code",
   "execution_count": null,
   "metadata": {},
   "outputs": [],
   "source": []
  }
 ],
 "metadata": {
  "kernelspec": {
   "display_name": "Python 3.7.4 64-bit ('base': conda)",
   "language": "python",
   "name": "python37464bitbasecondad6100f34c5834bdbac0030f0b6c4fa50"
  },
  "language_info": {
   "codemirror_mode": {
    "name": "ipython",
    "version": 3
   },
   "file_extension": ".py",
   "mimetype": "text/x-python",
   "name": "python",
   "nbconvert_exporter": "python",
   "pygments_lexer": "ipython3",
   "version": "3.7.4"
  }
 },
 "nbformat": 4,
 "nbformat_minor": 2
}
